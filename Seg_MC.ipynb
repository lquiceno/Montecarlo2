{
 "cells": [
  {
   "cell_type": "code",
   "execution_count": 285,
   "metadata": {},
   "outputs": [],
   "source": [
    "import numpy as np\n",
    "import scipy.integrate as integrate"
   ]
  },
  {
   "cell_type": "markdown",
   "metadata": {},
   "source": [
    "# Tarea. Seguimiento montecarlo.\n",
    "## Lucas Quiceno.\n",
    "\n",
    "Este seguimiento corto consiste en implementar el método de integración de Montecarlo que utiliza el muestreo por importancia según es descrito en la sección 3.2.2 del trabajo:\n",
    "\n",
    "https://arxiv.org/pdf/hep-ph/0006269.pdf\n",
    "\n",
    "y aplicarlo para calcular la integral definida de la función:\n",
    "\n",
    "f(x)=(x-10)**2+5\n",
    "\n",
    "entre 0 y 13.\n",
    "\n",
    "Utilize una PDF Gaussiana centrada en 10. \n",
    "\n",
    "Finalmente calcule la misma integral con el método básico de Montecarlo y compare para el mismo muestreo."
   ]
  },
  {
   "cell_type": "markdown",
   "metadata": {},
   "source": [
    "# Solución.\n",
    "Se escoge generar 100000 numeros aleatorios ya que se obtiene mejor resultado."
   ]
  },
  {
   "cell_type": "code",
   "execution_count": 256,
   "metadata": {},
   "outputs": [],
   "source": [
    "def Funcion(x): #función dada para integrar por montecarlo\n",
    "    return (x-10)**2+5\n",
    "\n",
    "def Integral(x): #integral de la funcion dada\n",
    "    return ((1/3)*(x**3))-(10*(x**2))+(105*x)\n",
    "\n",
    "def fdp(x): #funcion de distribucion de probabilidad\n",
    "    return (1/(8*np.sqrt(2*np.pi)))*(np.exp((-(x-10)**2)/(128)))\n",
    "    "
   ]
  },
  {
   "cell_type": "code",
   "execution_count": 222,
   "metadata": {},
   "outputs": [],
   "source": [
    "#integración por MC, en el rango definido de 0 a 13\n",
    "N100000=np.random.random_sample((100000))*13"
   ]
  },
  {
   "cell_type": "code",
   "execution_count": 223,
   "metadata": {},
   "outputs": [],
   "source": [
    "#resultados de la funcion sobre muestras aleatorias\n",
    "F100000=Funcion(N100000)"
   ]
  },
  {
   "cell_type": "code",
   "execution_count": 224,
   "metadata": {},
   "outputs": [],
   "source": [
    "#MC estimados\n",
    "E100000=np.sum(F100000)/len(N100000)"
   ]
  },
  {
   "cell_type": "code",
   "execution_count": 225,
   "metadata": {},
   "outputs": [
    {
     "name": "stdout",
     "output_type": "stream",
     "text": [
      "31.272528536127716\n"
     ]
    }
   ],
   "source": [
    "print(E100000)"
   ]
  },
  {
   "cell_type": "code",
   "execution_count": 226,
   "metadata": {},
   "outputs": [],
   "source": [
    "RescaledE100000=13*E100000"
   ]
  },
  {
   "cell_type": "code",
   "execution_count": 289,
   "metadata": {},
   "outputs": [
    {
     "name": "stdout",
     "output_type": "stream",
     "text": [
      "El valor de la integral es = 406.5428709696603\n"
     ]
    }
   ],
   "source": [
    "print(\"El valor de la integral es =\",RescaledE100000)"
   ]
  },
  {
   "cell_type": "code",
   "execution_count": 291,
   "metadata": {},
   "outputs": [
    {
     "name": "stdout",
     "output_type": "stream",
     "text": [
      "El valor de la integral definida es = 407.33333333333326\n"
     ]
    }
   ],
   "source": [
    "#valor de la integral definida\n",
    "DefiniteIntegral=Integral(13.0)-Integral(0)\n",
    "print(\"El valor de la integral definida es =\",DefiniteIntegral)"
   ]
  },
  {
   "cell_type": "code",
   "execution_count": 292,
   "metadata": {},
   "outputs": [
    {
     "name": "stdout",
     "output_type": "stream",
     "text": [
      "El valor de la integral usando scipy es = (407.3333333333333, 4.522308453639804e-12)\n"
     ]
    }
   ],
   "source": [
    "#integral usando scipy\n",
    "result = integrate.quad(lambda x: Funcion(x), 0, 13)\n",
    "print(\"El valor de la integral usando scipy es =\",result)"
   ]
  },
  {
   "cell_type": "code",
   "execution_count": 228,
   "metadata": {},
   "outputs": [],
   "source": [
    "#S\n",
    "S100000=np.sqrt(np.sum((F100000-E100000)**2)/(len(N100000)-1))"
   ]
  },
  {
   "cell_type": "code",
   "execution_count": 298,
   "metadata": {},
   "outputs": [
    {
     "name": "stdout",
     "output_type": "stream",
     "text": [
      "Varianza = 29.05737253794763\n"
     ]
    }
   ],
   "source": [
    "print(\"Varianza =\",S100000)"
   ]
  },
  {
   "cell_type": "markdown",
   "metadata": {},
   "source": [
    "Se observa que al generar 100000 números aleatorios para usar el método de MC el valor de la integral es casi el mismo que el dado por scipy y calculando directamente la integral definida."
   ]
  },
  {
   "cell_type": "markdown",
   "metadata": {},
   "source": [
    "# Método de importancia"
   ]
  },
  {
   "cell_type": "code",
   "execution_count": 261,
   "metadata": {},
   "outputs": [],
   "source": [
    "#generar números aleatorios que sigan la distribucion normal dada\n",
    "Normal=[] \n",
    "for i in range(len(N100000)):\n",
    "    aleatorio=np.random.normal(10,8)\n",
    "    if(aleatorio>0 and aleatorio<13): #se escoge los números que esten en el intervalo de integración 0 a 13\n",
    "        Normal.append(aleatorio)"
   ]
  },
  {
   "cell_type": "code",
   "execution_count": 294,
   "metadata": {},
   "outputs": [
    {
     "name": "stdout",
     "output_type": "stream",
     "text": [
      "Valor de la integral usando método de importancia = 404.37685524943464\n"
     ]
    }
   ],
   "source": [
    "lista=np.array(Normal)\n",
    "E=np.sum(Funcion(lista)/fdp(lista))*(1/len(N100000))\n",
    "\n",
    "print(\"Valor de la integral usando método de importancia =\",E)"
   ]
  },
  {
   "cell_type": "markdown",
   "metadata": {},
   "source": [
    "Siguiendo la sección 3.2.2 de la referencia dada se calcula el error estádistico con la ecuación 64."
   ]
  },
  {
   "cell_type": "code",
   "execution_count": 297,
   "metadata": {},
   "outputs": [
    {
     "name": "stdout",
     "output_type": "stream",
     "text": [
      "Varianza usando método de importancia = 811.8927217963095\n"
     ]
    }
   ],
   "source": [
    "# S importancia \n",
    "\n",
    "S=np.sqrt((1/len(N100000))*np.sum((Funcion(lista)/fdp(lista))**2)-E**2)\n",
    "\n",
    "print(\"Varianza usando método de importancia =\",S)"
   ]
  }
 ],
 "metadata": {
  "kernelspec": {
   "display_name": "Python 3",
   "language": "python",
   "name": "python3"
  },
  "language_info": {
   "codemirror_mode": {
    "name": "ipython",
    "version": 3
   },
   "file_extension": ".py",
   "mimetype": "text/x-python",
   "name": "python",
   "nbconvert_exporter": "python",
   "pygments_lexer": "ipython3",
   "version": "3.7.4"
  }
 },
 "nbformat": 4,
 "nbformat_minor": 2
}
